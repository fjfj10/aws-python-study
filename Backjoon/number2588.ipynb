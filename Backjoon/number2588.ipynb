{
 "cells": [
  {
   "cell_type": "code",
   "execution_count": 14,
   "id": "7d4bc1d8",
   "metadata": {},
   "outputs": [
    {
     "name": "stdout",
     "output_type": "stream",
     "text": [
      "472\n",
      "385\n",
      "2360\n",
      "3776\n",
      "1416\n",
      "181720\n"
     ]
    }
   ],
   "source": [
    "a = input()\n",
    "b = input()\n",
    "\n",
    "first = int(a)*int(b[2])\n",
    "second = int(a)*int(b[1])\n",
    "third = int(a)*int(b[0])\n",
    "print(first)\n",
    "print(second)\n",
    "print(third)\n",
    "print(first + second*10 + third*100)"
   ]
  },
  {
   "cell_type": "code",
   "execution_count": 67,
   "id": "d4642729",
   "metadata": {},
   "outputs": [
    {
     "name": "stdout",
     "output_type": "stream",
     "text": [
      "ss\n"
     ]
    }
   ],
   "source": [
    "print(\"ss\")"
   ]
  },
  {
   "cell_type": "code",
   "execution_count": 69,
   "id": "a69abba9",
   "metadata": {},
   "outputs": [
    {
     "name": "stdout",
     "output_type": "stream",
     "text": [
      "12345\n",
      "[1, 2, 3, 4, 5]\n",
      "x: 472\n",
      "y: 385\n",
      "2360\n",
      "3776\n",
      "1416\n",
      "181720\n"
     ]
    }
   ],
   "source": [
    "# 자릿수 상관없이 값이 나오게\n",
    "numStr = list(map(int, input()))\n",
    "print(numStr)\n",
    "\n",
    "x = list(map(int, input(\"x: \")))\n",
    "y = list(map(int, input(\"y: \")))\n",
    "\n",
    "x.reverse()\n",
    "y.reverse()\n",
    "\n",
    "result = 0\n",
    "i = 0\n",
    "\n",
    "for numY in y:\n",
    "    j = 0\n",
    "    subResult = 0\n",
    "    \n",
    "    for numX in x:\n",
    "        subResult += numX * numY * (10 ** j)\n",
    "        j += 1\n",
    "    print(subResult)\n",
    "    result += subResult * (10 ** i)\n",
    "    i += 1\n",
    "print(result)"
   ]
  },
  {
   "cell_type": "code",
   "execution_count": 81,
   "id": "f89d2f39",
   "metadata": {},
   "outputs": [
    {
     "name": "stdout",
     "output_type": "stream",
     "text": [
      "x: 472\n",
      "y: 385\n",
      "[5, 8, 3]\n",
      "2360\n",
      "3776\n",
      "1416\n",
      "181720\n"
     ]
    }
   ],
   "source": [
    "x = int(input(\"x: \"))\n",
    "y = list(map(int, input(\"y: \")))\n",
    "y.reverse()\n",
    "print(y)\n",
    "result = 0\n",
    "total = 0\n",
    "for i in y:\n",
    "    result = (x*i)\n",
    "    print(result)\n",
    "    total += (x*i)*(10 ** y.index(i))\n",
    "print(total)"
   ]
  }
 ],
 "metadata": {
  "kernelspec": {
   "display_name": "Python 3 (ipykernel)",
   "language": "python",
   "name": "python3"
  },
  "language_info": {
   "codemirror_mode": {
    "name": "ipython",
    "version": 3
   },
   "file_extension": ".py",
   "mimetype": "text/x-python",
   "name": "python",
   "nbconvert_exporter": "python",
   "pygments_lexer": "ipython3",
   "version": "3.11.4"
  }
 },
 "nbformat": 4,
 "nbformat_minor": 5
}
