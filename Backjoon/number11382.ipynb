{
 "cells": [
  {
   "cell_type": "code",
   "execution_count": 22,
   "id": "3f032e09",
   "metadata": {},
   "outputs": [
    {
     "name": "stdout",
     "output_type": "stream",
     "text": [
      "['77', '77', '7777']\n",
      "7931\n"
     ]
    }
   ],
   "source": [
    "# 입력\n",
    "# 첫 번째 줄에 A, B, C (1 ≤ A, B, C ≤ 1012)이 공백을 사이에 두고 주어진다.\n",
    "# 출력\n",
    "# A+B+C의 값을 출력한다.\n",
    "# 예제입력\n",
    "# 77 77 777\n",
    "#예제출력\n",
    "# 7931\n",
    "\n",
    "a = \"77 77 7777\"\n",
    "asplit = a.split()\n",
    "print(asplit)\n",
    "print(int(asplit[0])+int(asplit[1])+int(asplit[2]))"
   ]
  },
  {
   "cell_type": "code",
   "execution_count": 4,
   "id": "7517d723",
   "metadata": {},
   "outputs": [
    {
     "data": {
      "text/plain": [
       "['Life', 'is', 'too', 'short']"
      ]
     },
     "execution_count": 4,
     "metadata": {},
     "output_type": "execute_result"
    }
   ],
   "source": [
    "a = \"Life is too short\"\n",
    "a.split()"
   ]
  }
 ],
 "metadata": {
  "kernelspec": {
   "display_name": "Python 3 (ipykernel)",
   "language": "python",
   "name": "python3"
  },
  "language_info": {
   "codemirror_mode": {
    "name": "ipython",
    "version": 3
   },
   "file_extension": ".py",
   "mimetype": "text/x-python",
   "name": "python",
   "nbconvert_exporter": "python",
   "pygments_lexer": "ipython3",
   "version": "3.11.4"
  }
 },
 "nbformat": 4,
 "nbformat_minor": 5
}
