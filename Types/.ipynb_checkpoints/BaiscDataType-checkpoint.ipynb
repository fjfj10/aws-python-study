{
 "cells": [
  {
   "cell_type": "code",
   "execution_count": 4,
   "id": "d4e7e24c",
   "metadata": {},
   "outputs": [],
   "source": [
    "num = 10"
   ]
  },
  {
   "cell_type": "code",
   "execution_count": 5,
   "id": "f73c607e",
   "metadata": {},
   "outputs": [],
   "source": [
    "num2 = 20"
   ]
  },
  {
   "cell_type": "code",
   "execution_count": 6,
   "id": "3ca4919e",
   "metadata": {},
   "outputs": [
    {
     "data": {
      "text/plain": [
       "30"
      ]
     },
     "execution_count": 6,
     "metadata": {},
     "output_type": "execute_result"
    }
   ],
   "source": [
    "num + num2"
   ]
  },
  {
   "cell_type": "code",
   "execution_count": 7,
   "id": "15cf1918",
   "metadata": {},
   "outputs": [],
   "source": [
    "name = '김준일'"
   ]
  },
  {
   "cell_type": "code",
   "execution_count": 9,
   "id": "db53c0b8",
   "metadata": {},
   "outputs": [],
   "source": [
    "address = \"부산 \\n동래구\\n중앙대로\""
   ]
  },
  {
   "cell_type": "code",
   "execution_count": 11,
   "id": "dd1c1f92",
   "metadata": {},
   "outputs": [
    {
     "name": "stdout",
     "output_type": "stream",
     "text": [
      "부산 \n",
      "동래구\n",
      "중앙대로\n"
     ]
    }
   ],
   "source": [
    "print(address)"
   ]
  },
  {
   "cell_type": "code",
   "execution_count": 13,
   "id": "3ced7699",
   "metadata": {},
   "outputs": [],
   "source": [
    "address2 = \"\"\"부산\n",
    "동래구\n",
    "중앙대로\"\"\""
   ]
  },
  {
   "cell_type": "code",
   "execution_count": 14,
   "id": "93986a3f",
   "metadata": {},
   "outputs": [
    {
     "name": "stdout",
     "output_type": "stream",
     "text": [
      "부산\n",
      "동래구\n",
      "중앙대로\n"
     ]
    }
   ],
   "source": [
    "print(address2)"
   ]
  },
  {
   "cell_type": "code",
   "execution_count": 15,
   "id": "4c48658b",
   "metadata": {},
   "outputs": [],
   "source": [
    "sql = \"\"\"\n",
    "select\n",
    "    *\n",
    "from\n",
    "    user_tb\n",
    "\"\"\""
   ]
  },
  {
   "cell_type": "code",
   "execution_count": 16,
   "id": "5f86f0b9",
   "metadata": {},
   "outputs": [
    {
     "name": "stdout",
     "output_type": "stream",
     "text": [
      "\n",
      "select\n",
      "    *\n",
      "from\n",
      "    user_tb\n",
      "\n"
     ]
    }
   ],
   "source": [
    "print(sql)"
   ]
  },
  {
   "cell_type": "code",
   "execution_count": 17,
   "id": "27422eb3",
   "metadata": {},
   "outputs": [],
   "source": [
    "# \"\"\"\"따옴표 3개 안에 넣으면 자동 줄바꿈 해준다\"\""
   ]
  },
  {
   "cell_type": "code",
   "execution_count": 18,
   "id": "0656880b",
   "metadata": {},
   "outputs": [],
   "source": [
    "isEmpty = len(sql) == 0"
   ]
  },
  {
   "cell_type": "code",
   "execution_count": 22,
   "id": "21ac25f5",
   "metadata": {},
   "outputs": [
    {
     "name": "stdout",
     "output_type": "stream",
     "text": [
      "False\n"
     ]
    }
   ],
   "source": [
    "# len(): 길이를 알려줌\n",
    "print(isEmpty)\n",
    "# Ture, False는 무조건 대문자로 시작"
   ]
  },
  {
   "cell_type": "code",
   "execution_count": 23,
   "id": "f4391a08",
   "metadata": {},
   "outputs": [
    {
     "ename": "NameError",
     "evalue": "name 'true' is not defined",
     "output_type": "error",
     "traceback": [
      "\u001b[1;31m---------------------------------------------------------------------------\u001b[0m",
      "\u001b[1;31mNameError\u001b[0m                                 Traceback (most recent call last)",
      "Cell \u001b[1;32mIn[23], line 1\u001b[0m\n\u001b[1;32m----> 1\u001b[0m isShow \u001b[38;5;241m=\u001b[39m true\n",
      "\u001b[1;31mNameError\u001b[0m: name 'true' is not defined"
     ]
    }
   ],
   "source": [
    "isShow = true"
   ]
  },
  {
   "cell_type": "code",
   "execution_count": 25,
   "id": "5e1bde68",
   "metadata": {},
   "outputs": [],
   "source": [
    "isShow = True\n",
    "# t소문자로 쓰면 오류남"
   ]
  },
  {
   "cell_type": "code",
   "execution_count": 28,
   "id": "e8945f13",
   "metadata": {},
   "outputs": [
    {
     "ename": "SyntaxError",
     "evalue": "invalid syntax (4282254112.py, line 1)",
     "output_type": "error",
     "traceback": [
      "\u001b[1;36m  Cell \u001b[1;32mIn[28], line 1\u001b[1;36m\u001b[0m\n\u001b[1;33m    print(isShow && isEmpty)\u001b[0m\n\u001b[1;37m                  ^\u001b[0m\n\u001b[1;31mSyntaxError\u001b[0m\u001b[1;31m:\u001b[0m invalid syntax\n"
     ]
    }
   ],
   "source": [
    "print(isShow && isEmpty)"
   ]
  },
  {
   "cell_type": "code",
   "execution_count": 29,
   "id": "6c3964b4",
   "metadata": {},
   "outputs": [
    {
     "name": "stdout",
     "output_type": "stream",
     "text": [
      "False\n"
     ]
    }
   ],
   "source": [
    "print(isShow and isEmpty)"
   ]
  },
  {
   "cell_type": "code",
   "execution_count": 30,
   "id": "e6ba36ee",
   "metadata": {},
   "outputs": [
    {
     "name": "stdout",
     "output_type": "stream",
     "text": [
      "True\n"
     ]
    }
   ],
   "source": [
    "print(isShow and not isEmpty)"
   ]
  },
  {
   "cell_type": "code",
   "execution_count": 31,
   "id": "657352ac",
   "metadata": {},
   "outputs": [
    {
     "name": "stdout",
     "output_type": "stream",
     "text": [
      "True\n"
     ]
    }
   ],
   "source": [
    "print(isShow or isEmpty)"
   ]
  },
  {
   "cell_type": "code",
   "execution_count": null,
   "id": "5725872c",
   "metadata": {},
   "outputs": [],
   "source": []
  }
 ],
 "metadata": {
  "kernelspec": {
   "display_name": "Python 3 (ipykernel)",
   "language": "python",
   "name": "python3"
  },
  "language_info": {
   "codemirror_mode": {
    "name": "ipython",
    "version": 3
   },
   "file_extension": ".py",
   "mimetype": "text/x-python",
   "name": "python",
   "nbconvert_exporter": "python",
   "pygments_lexer": "ipython3",
   "version": "3.11.4"
  }
 },
 "nbformat": 4,
 "nbformat_minor": 5
}
