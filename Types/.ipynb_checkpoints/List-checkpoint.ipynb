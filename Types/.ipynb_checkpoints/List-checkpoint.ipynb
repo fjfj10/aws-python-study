{
 "cells": [
  {
   "cell_type": "code",
   "execution_count": 1,
   "id": "4a950361",
   "metadata": {},
   "outputs": [],
   "source": [
    "list = [1, 2, 3, 4, 5, [\"김준일\", \"김준이\", [True, False, False], [1.1, 2.2, 3.3]]]"
   ]
  },
  {
   "cell_type": "code",
   "execution_count": 2,
   "id": "e2640daf",
   "metadata": {},
   "outputs": [
    {
     "name": "stdout",
     "output_type": "stream",
     "text": [
      "[1, 2, 3, 4, 5, ['김준일', '김준이', [True, False, False], [1.1, 2.2, 3.3]]]\n"
     ]
    }
   ],
   "source": [
    "print(list)"
   ]
  },
  {
   "cell_type": "code",
   "execution_count": 3,
   "id": "14b227a7",
   "metadata": {},
   "outputs": [
    {
     "name": "stdout",
     "output_type": "stream",
     "text": [
      "['김준일', '김준이', [True, False, False], [1.1, 2.2, 3.3]]\n"
     ]
    }
   ],
   "source": [
    "print(list[-1])"
   ]
  },
  {
   "cell_type": "code",
   "execution_count": 4,
   "id": "01f877cd",
   "metadata": {},
   "outputs": [
    {
     "name": "stdout",
     "output_type": "stream",
     "text": [
      "[True, False, False]\n"
     ]
    }
   ],
   "source": [
    "print(list[-1][-2])"
   ]
  },
  {
   "cell_type": "code",
   "execution_count": 7,
   "id": "a13f5245",
   "metadata": {},
   "outputs": [
    {
     "name": "stdout",
     "output_type": "stream",
     "text": [
      "[False, False]\n"
     ]
    }
   ],
   "source": [
    "print(list[-1][-2][1:])\n",
    "# 음수 사용가능, 인덱싱 슬라이싱 사용가능"
   ]
  },
  {
   "cell_type": "code",
   "execution_count": 10,
   "id": "4f273b46",
   "metadata": {},
   "outputs": [
    {
     "name": "stdout",
     "output_type": "stream",
     "text": [
      "[1, 2, 3, 4, 5, 6, 7, 8]\n",
      "[1, 2, 3, 4, 5, 6, 7, 8]\n",
      "[1, 2, 3, 4, 5, 6, 7, 8, 1, 2, 3, 4, 5, 6, 7, 8]\n",
      "[1, 2, 3, 4, 5, 6, 7, 8]\n"
     ]
    }
   ],
   "source": [
    "list = [1, 2, 3, 4]\n",
    "list2 = [5, 6, 7, 8]\n",
    "\n",
    "print(list + list2)\n",
    "# + 사용시 list와 list2에는 변화 없음\n",
    "list.extend(list2)\n",
    "#  extend사용 시 대입 하는 것과 같다\n",
    "print(list)\n",
    "\n",
    "print(list * 2)\n",
    "print(list)\n",
    "# 연산자로는 기본 리스트 변화 없음"
   ]
  },
  {
   "cell_type": "code",
   "execution_count": 11,
   "id": "e3b425d4",
   "metadata": {},
   "outputs": [
    {
     "name": "stdout",
     "output_type": "stream",
     "text": [
      "1\n",
      "2\n",
      "1 1\n"
     ]
    }
   ],
   "source": [
    "t = (1, 2, 3)\n",
    "print(t[0])\n",
    "print(t[1])\n",
    "\n",
    "#t = (1) 이 때 t는 그냥 1 = 튜플이 아니다 (): 연산기호를 묶는데 사용 \n",
    "t = (1,) # 튜플일때는 ,붙여서 표시\n",
    "list = [1]\n",
    "print(t[0], list[0])"
   ]
  }
 ],
 "metadata": {
  "kernelspec": {
   "display_name": "Python 3 (ipykernel)",
   "language": "python",
   "name": "python3"
  },
  "language_info": {
   "codemirror_mode": {
    "name": "ipython",
    "version": 3
   },
   "file_extension": ".py",
   "mimetype": "text/x-python",
   "name": "python",
   "nbconvert_exporter": "python",
   "pygments_lexer": "ipython3",
   "version": "3.11.4"
  }
 },
 "nbformat": 4,
 "nbformat_minor": 5
}
