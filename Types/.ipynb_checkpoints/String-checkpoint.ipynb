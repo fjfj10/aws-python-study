{
 "cells": [
  {
   "cell_type": "code",
   "execution_count": 1,
   "id": "8c206d05",
   "metadata": {},
   "outputs": [],
   "source": [
    "str = \"'test'\""
   ]
  },
  {
   "cell_type": "code",
   "execution_count": 2,
   "id": "81d4a493",
   "metadata": {},
   "outputs": [
    {
     "name": "stdout",
     "output_type": "stream",
     "text": [
      "'test'\n"
     ]
    }
   ],
   "source": [
    "print(str)"
   ]
  },
  {
   "cell_type": "code",
   "execution_count": 3,
   "id": "5637e844",
   "metadata": {},
   "outputs": [
    {
     "name": "stdout",
     "output_type": "stream",
     "text": [
      "'aaa', \"aaa\"\n"
     ]
    }
   ],
   "source": [
    "print(\"'aaa', \\\"aaa\\\"\")"
   ]
  },
  {
   "cell_type": "code",
   "execution_count": 4,
   "id": "86ab0e00",
   "metadata": {},
   "outputs": [],
   "source": [
    "# 역슬러시\\를 이용하여 이스케이프 처리해주면 큰따옴표안에 큰따옴표 사용이 가능해진다"
   ]
  },
  {
   "cell_type": "code",
   "execution_count": 6,
   "id": "0a5c12c7",
   "metadata": {},
   "outputs": [
    {
     "name": "stdout",
     "output_type": "stream",
     "text": [
      "\"bbb\", 'bbb'\n"
     ]
    }
   ],
   "source": [
    "print('\"bbb\", \\'bbb\\'')"
   ]
  },
  {
   "cell_type": "code",
   "execution_count": 7,
   "id": "db837221",
   "metadata": {},
   "outputs": [
    {
     "name": "stdout",
     "output_type": "stream",
     "text": [
      "김준일\n"
     ]
    }
   ],
   "source": [
    "print('김준일')"
   ]
  },
  {
   "cell_type": "code",
   "execution_count": 9,
   "id": "4718f2ef",
   "metadata": {},
   "outputs": [
    {
     "name": "stdout",
     "output_type": "stream",
     "text": [
      "김준일\n",
      "김준일\n",
      "김준일\n",
      "김준일\n",
      "김준일\n",
      "김준일\n",
      "김준일\n",
      "김준일\n",
      "김준일\n",
      "김준일\n",
      "\n"
     ]
    }
   ],
   "source": [
    "print(\"김준일\\n\" * 10)\n",
    "# 단순 문자열 반복 출력의 경우 *만 해줘도 된다"
   ]
  },
  {
   "cell_type": "code",
   "execution_count": 12,
   "id": "60851837",
   "metadata": {},
   "outputs": [],
   "source": [
    "address = \"부산 동래구 중앙대로 1285번길\""
   ]
  },
  {
   "cell_type": "code",
   "execution_count": 13,
   "id": "e62a180f",
   "metadata": {},
   "outputs": [
    {
     "name": "stdout",
     "output_type": "stream",
     "text": [
      "부\n"
     ]
    }
   ],
   "source": [
    "print(address[0])"
   ]
  },
  {
   "cell_type": "code",
   "execution_count": 15,
   "id": "1766bc2c",
   "metadata": {},
   "outputs": [
    {
     "name": "stdout",
     "output_type": "stream",
     "text": [
      "부산 동래구\n",
      "부산 동래구\n",
      "중앙대로 1285번길\n"
     ]
    }
   ],
   "source": [
    "print(address[0:6])\n",
    "# 문자열 슬라이싱\n",
    "print(address[:6])\n",
    "# 0은 생략가능\n",
    "print(address[7:])\n",
    "# 문자열 끝은 생략 가능"
   ]
  },
  {
   "cell_type": "code",
   "execution_count": 16,
   "id": "776b893f",
   "metadata": {},
   "outputs": [],
   "source": [
    "names = ['김준일', \"김준이\", \"김준삼\", \"김준사\"]"
   ]
  },
  {
   "cell_type": "code",
   "execution_count": 22,
   "id": "39c9a3c5",
   "metadata": {},
   "outputs": [
    {
     "name": "stdout",
     "output_type": "stream",
     "text": [
      "준일\n",
      "준이\n",
      "준삼\n",
      "준사\n"
     ]
    }
   ],
   "source": [
    "print(names[0][1:])\n",
    "print(names[1][1:])\n",
    "print(names[2][1:])\n",
    "print(names[3][1:])"
   ]
  },
  {
   "cell_type": "code",
   "execution_count": 21,
   "id": "b6f5bf9c",
   "metadata": {},
   "outputs": [
    {
     "name": "stdout",
     "output_type": "stream",
     "text": [
      "준일\n",
      "준이\n",
      "준삼\n",
      "준사\n"
     ]
    }
   ],
   "source": [
    "for name in names:\n",
    "    print(name[1:])"
   ]
  },
  {
   "cell_type": "code",
   "execution_count": 26,
   "id": "9f482101",
   "metadata": {},
   "outputs": [
    {
     "name": "stdout",
     "output_type": "stream",
     "text": [
      "준일\n",
      "준이\n",
      "준삼\n",
      "준사\n"
     ]
    }
   ],
   "source": [
    "for i in range(4):\n",
    "    print(names[i][1:])\n",
    "# python의 for문은 forEach기반"
   ]
  },
  {
   "cell_type": "code",
   "execution_count": 29,
   "id": "7ee6365b",
   "metadata": {},
   "outputs": [],
   "source": [
    "# while은 조건부일 때 for은 범위가 있을 때 사용"
   ]
  },
  {
   "cell_type": "code",
   "execution_count": 30,
   "id": "1a592440",
   "metadata": {},
   "outputs": [
    {
     "name": "stdout",
     "output_type": "stream",
     "text": [
      "range(0, 10)\n"
     ]
    }
   ],
   "source": [
    "print(range(10))\n",
    "#  renge는 범위를 지정해줌 (n부터, n전까지): (0, 10) = 0,1,2,3,4,5,6,7,8,9"
   ]
  },
  {
   "cell_type": "code",
   "execution_count": 32,
   "id": "6e5ba19c",
   "metadata": {},
   "outputs": [
    {
     "name": "stdout",
     "output_type": "stream",
     "text": [
      "\n",
      "select\n",
      "    *\n",
      "from\n",
      "    user_tb\n",
      "where\n",
      "    username = aaa\n",
      "\n"
     ]
    }
   ],
   "source": [
    "# f포메팅(3.6미만에서는 사용 불가) = 표현식\n",
    "username = \"aaa\"\n",
    "\n",
    "sql = f\"\"\"\n",
    "select\n",
    "    *\n",
    "from\n",
    "    user_tb\n",
    "where\n",
    "    username = {username}\n",
    "\"\"\"\n",
    "\n",
    "print(sql)"
   ]
  },
  {
   "cell_type": "code",
   "execution_count": 37,
   "id": "1123bedc",
   "metadata": {},
   "outputs": [
    {
     "name": "stdout",
     "output_type": "stream",
     "text": [
      "3\n",
      "5\n",
      "0\n",
      "3\n",
      "0\n",
      "-1\n"
     ]
    },
    {
     "ename": "ValueError",
     "evalue": "substring not found",
     "output_type": "error",
     "traceback": [
      "\u001b[1;31m---------------------------------------------------------------------------\u001b[0m",
      "\u001b[1;31mValueError\u001b[0m                                Traceback (most recent call last)",
      "Cell \u001b[1;32mIn[37], line 8\u001b[0m\n\u001b[0;32m      6\u001b[0m \u001b[38;5;28mprint\u001b[39m(name\u001b[38;5;241m.\u001b[39mindex(\u001b[38;5;124m\"\u001b[39m\u001b[38;5;124m김\u001b[39m\u001b[38;5;124m\"\u001b[39m))\n\u001b[0;32m      7\u001b[0m \u001b[38;5;28mprint\u001b[39m(name\u001b[38;5;241m.\u001b[39mfind(\u001b[38;5;124m\"\u001b[39m\u001b[38;5;124m이\u001b[39m\u001b[38;5;124m\"\u001b[39m))\n\u001b[1;32m----> 8\u001b[0m \u001b[38;5;28mprint\u001b[39m(name\u001b[38;5;241m.\u001b[39mindex(\u001b[38;5;124m\"\u001b[39m\u001b[38;5;124m이\u001b[39m\u001b[38;5;124m\"\u001b[39m))\n",
      "\u001b[1;31mValueError\u001b[0m: substring not found"
     ]
    }
   ],
   "source": [
    "name = \"김김김준일\"\n",
    "print(name.count(\"김\"))\n",
    "print(len(name))\n",
    "print(name.find(\"김\"))\n",
    "print(name.find(\"준\"))\n",
    "print(name.index(\"김\"))\n",
    "print(name.find(\"이\"))\n",
    "print(name.index(\"이\"))\n",
    "# find는 못찾으면 -1을 주고, index는 에러를 띄운다"
   ]
  },
  {
   "cell_type": "code",
   "execution_count": 40,
   "id": "8134f580",
   "metadata": {},
   "outputs": [
    {
     "name": "stdout",
     "output_type": "stream",
     "text": [
      "김준일\n",
      "김 준 일\n"
     ]
    }
   ],
   "source": [
    "name = \"김준일\"\n",
    "print(name)\n",
    "name = \" \".join(name)\n",
    "print(name)"
   ]
  },
  {
   "cell_type": "code",
   "execution_count": 42,
   "id": "e54a1330",
   "metadata": {},
   "outputs": [
    {
     "name": "stdout",
     "output_type": "stream",
     "text": [
      " \n"
     ]
    }
   ],
   "source": [
    "name2 = \"김준일\"\n",
    "name2 = name2.join(\" \")\n",
    "print(name2)\n",
    "# \" \"사이에 name2를 집어 넣어라가 되는데 \n",
    "# \"\"는 띄어쓰기 하나만 있으므로 첫글자이자 끝글자이다 따라서 name2를 집어넣을 공간이 없어 빈값이 print된다"
   ]
  },
  {
   "cell_type": "code",
   "execution_count": 43,
   "id": "7d5fafff",
   "metadata": {},
   "outputs": [],
   "source": [
    "#  문자열의 공백처리는 점프 투 파이썬 보고 lstrip, rstrip, strip, replace, split 공부하기"
   ]
  }
 ],
 "metadata": {
  "kernelspec": {
   "display_name": "Python 3 (ipykernel)",
   "language": "python",
   "name": "python3"
  },
  "language_info": {
   "codemirror_mode": {
    "name": "ipython",
    "version": 3
   },
   "file_extension": ".py",
   "mimetype": "text/x-python",
   "name": "python",
   "nbconvert_exporter": "python",
   "pygments_lexer": "ipython3",
   "version": "3.11.4"
  }
 },
 "nbformat": 4,
 "nbformat_minor": 5
}
