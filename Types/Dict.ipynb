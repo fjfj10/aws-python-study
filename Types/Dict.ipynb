{
 "cells": [
  {
   "cell_type": "code",
   "execution_count": 2,
   "id": "7fec461a",
   "metadata": {},
   "outputs": [
    {
     "name": "stdout",
     "output_type": "stream",
     "text": [
      "a\n",
      "None\n"
     ]
    },
    {
     "ename": "KeyError",
     "evalue": "2",
     "output_type": "error",
     "traceback": [
      "\u001b[1;31m---------------------------------------------------------------------------\u001b[0m",
      "\u001b[1;31mKeyError\u001b[0m                                  Traceback (most recent call last)",
      "Cell \u001b[1;32mIn[2], line 5\u001b[0m\n\u001b[0;32m      3\u001b[0m \u001b[38;5;28mprint\u001b[39m(\u001b[38;5;28mdict\u001b[39m[\u001b[38;5;241m1\u001b[39m])\n\u001b[0;32m      4\u001b[0m \u001b[38;5;28mprint\u001b[39m(\u001b[38;5;28mdict\u001b[39m\u001b[38;5;241m.\u001b[39mget(\u001b[38;5;241m2\u001b[39m))\n\u001b[1;32m----> 5\u001b[0m \u001b[38;5;28mprint\u001b[39m(\u001b[38;5;28mdict\u001b[39m[\u001b[38;5;241m2\u001b[39m])\n",
      "\u001b[1;31mKeyError\u001b[0m: 2"
     ]
    }
   ],
   "source": [
    "dict = {1:\"a\", 'name': \"준일\"}\n",
    "\n",
    "print(dict[1])\n",
    "print(dict.get(2))\n",
    "print(dict[2])\n",
    "# get을 사용하면 존재하지 않는 key값일 때 none을 가져오고 그냥[]에 넣으면 에러가 난다 \n",
    "# get은 오류처리를 할때 사용해준다"
   ]
  },
  {
   "cell_type": "code",
   "execution_count": 4,
   "id": "e2df1b8c",
   "metadata": {},
   "outputs": [],
   "source": [
    "a = 10"
   ]
  },
  {
   "cell_type": "code",
   "execution_count": 5,
   "id": "c8777aae",
   "metadata": {},
   "outputs": [],
   "source": [
    "a = eval('a+2')"
   ]
  },
  {
   "cell_type": "code",
   "execution_count": 6,
   "id": "e201b3b8",
   "metadata": {},
   "outputs": [
    {
     "name": "stdout",
     "output_type": "stream",
     "text": [
      "12\n"
     ]
    }
   ],
   "source": [
    "print(a)"
   ]
  },
  {
   "cell_type": "code",
   "execution_count": 7,
   "id": "268f5ad0",
   "metadata": {},
   "outputs": [],
   "source": [
    "# 문자열을 실행문(code)으로 변환시킴"
   ]
  },
  {
   "cell_type": "code",
   "execution_count": 9,
   "id": "1f33f14b",
   "metadata": {},
   "outputs": [],
   "source": [
    "import json"
   ]
  },
  {
   "cell_type": "code",
   "execution_count": 18,
   "id": "889d39e2",
   "metadata": {},
   "outputs": [
    {
     "name": "stdout",
     "output_type": "stream",
     "text": [
      "{'userId': 1, 'username': 'aaa', 'password': '1234', 'name': '김준일', 'email': 'aaa@google.com'}\n",
      "{\"userId\": 1, \"username\": \"aaa\", \"password\": \"1234\", \"name\": \"\\uae40\\uc900\\uc77c\", \"email\": \"aaa@google.com\"}\n",
      "{'userId': 1, 'username': 'aaa', 'password': '1234', 'name': '김준일', 'email': 'aaa@google.com'}\n",
      "김준일\n",
      "{'userId': 1, 'username': 'aaa', 'password': '1234', 'name': '김준일', 'email': 'aaa@google.com'}\n",
      "김준일\n"
     ]
    }
   ],
   "source": [
    "user = {\n",
    "    \"userId\": 1,\n",
    "    \"username\": \"aaa\",\n",
    "    \"password\": \"1234\",\n",
    "    \"name\": \"김준일\",\n",
    "    \"email\": \"aaa@google.com\"\n",
    "}\n",
    "\n",
    "print(user)\n",
    "\n",
    "# dict객체를 json으로 변환\n",
    "userJson = json.dumps(user)\n",
    "print(userJson)\n",
    "\n",
    "# loads를 이용해 json을 dict객체로 변환\n",
    "newUser = json.loads(userJson)\n",
    "print(newUser)\n",
    "\n",
    "print(newUser.get(\"name\"))\n",
    "\n",
    "# Json의 구조가 dict의 구조와 같기 때문에 eval을 사용하여 객체로 변환 가능\n",
    "newUser2 = eval(userJson)\n",
    "print(newUser2)\n",
    "print(newUser2.get(\"name\"))"
   ]
  }
 ],
 "metadata": {
  "kernelspec": {
   "display_name": "Python 3 (ipykernel)",
   "language": "python",
   "name": "python3"
  },
  "language_info": {
   "codemirror_mode": {
    "name": "ipython",
    "version": 3
   },
   "file_extension": ".py",
   "mimetype": "text/x-python",
   "name": "python",
   "nbconvert_exporter": "python",
   "pygments_lexer": "ipython3",
   "version": "3.11.4"
  }
 },
 "nbformat": 4,
 "nbformat_minor": 5
}
